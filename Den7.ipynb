{
 "cells": [
  {
   "cell_type": "code",
   "execution_count": 111,
   "metadata": {},
   "outputs": [],
   "source": [
    "import pandas as pd\n",
    "import numpy as np\n",
    "from collections import Counter\n",
    "from math import factorial"
   ]
  },
  {
   "cell_type": "code",
   "execution_count": 188,
   "metadata": {},
   "outputs": [],
   "source": [
    "df=pd.read_csv('Den7.txt', header=None, sep=' ')\n",
    "df.columns=['Cards','Bet']"
   ]
  },
  {
   "cell_type": "code",
   "execution_count": 182,
   "metadata": {},
   "outputs": [
    {
     "name": "stderr",
     "output_type": "stream",
     "text": [
      "C:\\Users\\vrbik\\AppData\\Local\\Temp\\ipykernel_17572\\878117919.py:4: SettingWithCopyWarning: \n",
      "A value is trying to be set on a copy of a slice from a DataFrame\n",
      "\n",
      "See the caveats in the documentation: https://pandas.pydata.org/pandas-docs/stable/user_guide/indexing.html#returning-a-view-versus-a-copy\n",
      "  df['Type'][i]='15K'\n",
      "C:\\Users\\vrbik\\AppData\\Local\\Temp\\ipykernel_17572\\878117919.py:4: FutureWarning: Setting an item of incompatible dtype is deprecated and will raise in a future error of pandas. Value '15K' has dtype incompatible with float64, please explicitly cast to a compatible dtype first.\n",
      "  df['Type'][i]='15K'\n"
     ]
    }
   ],
   "source": [
    "df['Type']=np.nan\n",
    "for i in range(0,len(df)):\n",
    "    if len(set(df['Cards'][i]))==1:\n",
    "        df['Type'][i]='15K'\n",
    "        continue\n",
    "    if len(set(df['Cards'][i]))==4:\n",
    "        df['Type'][i]='61P'\n",
    "        continue\n",
    "    if len(set(df['Cards'][i]))==5:\n",
    "        df['Type'][i]='7HC'\n",
    "        continue\n",
    "    if len(set(df['Cards'][i]))==2:\n",
    "        if list(Counter(df['Cards'][i]).values())==[4, 1] or list(Counter(df['Cards'][i]).values())==[1, 4]:\n",
    "            df['Type'][i]='24K'\n",
    "        if list(Counter(df['Cards'][i]).values())==[2, 3] or list(Counter(df['Cards'][i]).values())==[3, 2]:\n",
    "            df['Type'][i]='3FH'\n",
    "        continue\n",
    "    if len(set(df['Cards'][i]))==3:\n",
    "        if list(Counter(df['Cards'][i]).values())==[2, 2, 1] or list(Counter(df['Cards'][i]).values())==[2, 1, 2]  or list(Counter(df['Cards'][i]).values())==[1, 2, 2]:\n",
    "            df['Type'][i]='52P'\n",
    "        if list(Counter(df['Cards'][i]).values())==[3, 1, 1] or list(Counter(df['Cards'][i]).values())==[1, 3, 1] or list(Counter(df['Cards'][i]).values())==[1, 1, 3]:\n",
    "            df['Type'][i]='43K'\n",
    "        continue"
   ]
  },
  {
   "cell_type": "code",
   "execution_count": 186,
   "metadata": {},
   "outputs": [
    {
     "data": {
      "text/plain": [
       "249638405"
      ]
     },
     "execution_count": 186,
     "metadata": {},
     "output_type": "execute_result"
    }
   ],
   "source": [
    "df[['Card_1', 'Card_2', 'Card_3', 'Card_4', 'Card_5']] = df['Cards'].apply(lambda x: pd.Series(list(x)))\n",
    "df['Card_1'] = df['Card_1'].replace({'K': 'B', 'Q': 'C', 'J': 'D','T': 'E','9': 'F','8': 'G','7': 'H','6': 'I','5': 'J','4': 'K','3': 'L','2': 'M'})\n",
    "df['Card_2'] = df['Card_2'].replace({'K': 'B', 'Q': 'C', 'J': 'D','T': 'E','9': 'F','8': 'G','7': 'H','6': 'I','5': 'J','4': 'K','3': 'L','2': 'M'})\n",
    "df['Card_3'] = df['Card_3'].replace({'K': 'B', 'Q': 'C', 'J': 'D','T': 'E','9': 'F','8': 'G','7': 'H','6': 'I','5': 'J','4': 'K','3': 'L','2': 'M'})\n",
    "df['Card_4'] = df['Card_4'].replace({'K': 'B', 'Q': 'C', 'J': 'D','T': 'E','9': 'F','8': 'G','7': 'H','6': 'I','5': 'J','4': 'K','3': 'L','2': 'M'})\n",
    "df['Card_5'] = df['Card_5'].replace({'K': 'B', 'Q': 'C', 'J': 'D','T': 'E','9': 'F','8': 'G','7': 'H','6': 'I','5': 'J','4': 'K','3': 'L','2': 'M'})\n",
    "df_sorted = df.sort_values(by=['Type', 'Card_1', 'Card_2', 'Card_3', 'Card_4', 'Card_5'], ascending=[False, False, False, False, False, False])\n",
    "df_sorted['Posloupnost'] = range(1, len(df) + 1)\n",
    "(df_sorted['Bet']*df_sorted['Posloupnost']).sum()"
   ]
  }
 ],
 "metadata": {
  "kernelspec": {
   "display_name": "Python 3",
   "language": "python",
   "name": "python3"
  },
  "language_info": {
   "codemirror_mode": {
    "name": "ipython",
    "version": 3
   },
   "file_extension": ".py",
   "mimetype": "text/x-python",
   "name": "python",
   "nbconvert_exporter": "python",
   "pygments_lexer": "ipython3",
   "version": "3.12.0"
  }
 },
 "nbformat": 4,
 "nbformat_minor": 2
}
